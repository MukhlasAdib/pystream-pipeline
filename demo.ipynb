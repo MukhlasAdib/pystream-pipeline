{
 "cells": [
  {
   "attachments": {},
   "cell_type": "markdown",
   "metadata": {},
   "source": [
    "# PyStream Pipeline Demo"
   ]
  },
  {
   "attachments": {},
   "cell_type": "markdown",
   "metadata": {},
   "source": [
    "This notebook contains some examples of how to use PyStream to construct real time data pipeline. For details, please also visit the package [documentation](https://pystream-pipeline.readthedocs.io/). First, let's import related packages."
   ]
  },
  {
   "cell_type": "code",
   "execution_count": 13,
   "metadata": {},
   "outputs": [],
   "source": [
    "import time\n",
    "from typing import Dict, List, Tuple\n",
    "\n",
    "import cv2\n",
    "import numpy as np\n",
    "from tabulate import tabulate\n",
    "\n",
    "from pystream import Pipeline, Stage"
   ]
  },
  {
   "attachments": {},
   "cell_type": "markdown",
   "metadata": {},
   "source": [
    "## Stage Definitions"
   ]
  },
  {
   "attachments": {},
   "cell_type": "markdown",
   "metadata": {},
   "source": [
    "In PyStream, a pipeline is created based on several components, which is called `Stages`. The data given to the pipeline will be passed from one stage to another until they reach the final stage.\n",
    "\n",
    "Stage can be defined in two ways:\n",
    "- As a custom class instance. The class must be inherited from ``pystream.Stage`` abstract class and has ``__call__`` and ``cleanup`` methods defined.\n",
    "- As a function. The function must only takes one argument and return one result of the same type."
   ]
  },
  {
   "attachments": {},
   "cell_type": "markdown",
   "metadata": {},
   "source": [
    "Now, let's create a sample stage. A stage below perform some convolutions on an image (3D numpy array with shape HxWx3) contained in a dictionary. The result is then put in the same dictionary as the input, replacing the input image. The class also keeps track of the number of executions and reset the counter to 0 during cleanup."
   ]
  },
  {
   "cell_type": "code",
   "execution_count": 14,
   "metadata": {},
   "outputs": [],
   "source": [
    "class DummyStage(Stage):\n",
    "    \"\"\"A dummy stage that performs some convolutions to the input 2D array,\n",
    "    and count how many input it has processed.\n",
    "    \n",
    "    For stages in class form, the __call__ and cleanup methods have to be \n",
    "    defined, and it is recommended to define 'name' property in the stage \n",
    "    instance init\n",
    "    \"\"\"\n",
    "\n",
    "    def __init__(self, name: str) -> None:\n",
    "        self.count = 0\n",
    "        self.name = name\n",
    "        self.kernel = np.random.randint(-10, 10, size=(5, 5))\n",
    "\n",
    "    def __call__(self, data: Dict[str, np.ndarray]) -> Dict[str, np.ndarray]:\n",
    "        img = data[\"data\"]\n",
    "        for _ in range(100):\n",
    "            img = cv2.filter2D(src=img, ddepth=-1, kernel=self.kernel)\n",
    "        data[\"data\"] = img\n",
    "        self.count += 1\n",
    "        return data\n",
    "\n",
    "    def cleanup(self):\n",
    "        self.count = 0"
   ]
  },
  {
   "attachments": {},
   "cell_type": "markdown",
   "metadata": {},
   "source": [
    "We can also define the above stage as a function without the counter."
   ]
  },
  {
   "cell_type": "code",
   "execution_count": 15,
   "metadata": {},
   "outputs": [],
   "source": [
    "def dummy_stage_func(data: Dict[str, np.ndarray]) -> Dict[str, np.ndarray]:\n",
    "    \"\"\"A function that does some convolutions to the input.\n",
    "    \n",
    "    This is a dummy stage defined as a function. A stage in function form only \n",
    "    takes one argument and return one result with same type\"\"\"\n",
    "\n",
    "    img = data[\"data\"]\n",
    "    kernel = np.random.randint(-10, 10, size=(5, 5))\n",
    "    for _ in range(100):\n",
    "        img = cv2.filter2D(src=img, ddepth=-1, kernel=kernel)\n",
    "    data[\"data\"] = img\n",
    "    return data"
   ]
  },
  {
   "attachments": {},
   "cell_type": "markdown",
   "metadata": {},
   "source": [
    "## Automated Pipeline"
   ]
  },
  {
   "attachments": {},
   "cell_type": "markdown",
   "metadata": {},
   "source": [
    "You can also run pipeline autonomously, i.e., the data will be generated automatically at each specific seconds. To do that, you need to define a data generator, which is a callable that takes no argument and return the data. In this example, we only want to generate a random image."
   ]
  },
  {
   "cell_type": "code",
   "execution_count": 16,
   "metadata": {},
   "outputs": [],
   "source": [
    "def generate_data() -> Dict[str, np.ndarray]:\n",
    "    img = np.random.randint(0, 255, size=(480, 720, 3), dtype=np.uint8)\n",
    "    return {\"data\": img}"
   ]
  },
  {
   "attachments": {},
   "cell_type": "markdown",
   "metadata": {},
   "source": [
    "Then, let's define some parameters"
   ]
  },
  {
   "cell_type": "code",
   "execution_count": 17,
   "metadata": {},
   "outputs": [],
   "source": [
    "# Cycle period for the input data\n",
    "INPUT_PERIOD = 0.2\n",
    "# Time to run the pipeline\n",
    "ON_TIME = 5"
   ]
  },
  {
   "cell_type": "markdown",
   "metadata": {},
   "source": [
    "Create the pipeline. You only need to use `pystream.Pipeline` to create it. Here I put the pipeline creation into `create_pipeline` function. I also made a helper function `print_profile` to print profiling results later. In this particular example we use only the class-based stage."
   ]
  },
  {
   "cell_type": "code",
   "execution_count": 18,
   "metadata": {},
   "outputs": [],
   "source": [
    "def create_stages() -> List[DummyStage]:\n",
    "    # Return 5 dummy stages\n",
    "    return [DummyStage(f\"Stage{i + 1}\") for i in range(5)]\n",
    "\n",
    "def create_pipeline() -> Tuple[Pipeline, List[DummyStage]]:\n",
    "    # First, create the pipeline instance, we want to use the profiler\n",
    "    pipeline = Pipeline(input_generator=generate_data, use_profiler=True)\n",
    "    # Create the stages\n",
    "    stages = create_stages()\n",
    "    # Now, add the stages to the pipeline.\n",
    "    for stage in stages:\n",
    "        pipeline.add(stage)\n",
    "    return pipeline, stages\n",
    "\n",
    "def print_profile(latency: Dict[str, float], throughput: Dict[str, float]) -> None:\n",
    "    data = []\n",
    "    for k in latency.keys():\n",
    "        d = [k, latency[k], throughput[k]]\n",
    "        data.append(d)\n",
    "    table = tabulate(data, headers=[\"Stage\", \"Latency (s)\", \"Throughput (d/s)\"])\n",
    "    print(table)"
   ]
  },
  {
   "attachments": {},
   "cell_type": "markdown",
   "metadata": {},
   "source": [
    "We are ready! Run the pipeline in serial mode. Use `get_profiles` method of `pystream.Pipeline` to get the latency and throughput records."
   ]
  },
  {
   "cell_type": "code",
   "execution_count": 19,
   "metadata": {},
   "outputs": [
    {
     "name": "stdout",
     "output_type": "stream",
     "text": [
      "Starting pipeline in serial...\n",
      "Streaming data each 0.2 s...\n",
      "Waiting for 5 s...\n",
      "Stopping pipeline...\n",
      "\n",
      "Last output shape:\n",
      "(480, 720, 3)\n",
      "Number of processed data:\n",
      "6\n",
      "Pipeline has been cleaned-up\n",
      "Data counter was reset to 0.\n",
      "\n",
      "Pipeline profile:\n",
      "Stage       Latency (s)    Throughput (d/s)\n",
      "--------  -------------  ------------------\n",
      "Stage1         0.177527             1.11134\n",
      "Stage2         0.167018             1.11083\n",
      "Stage3         0.187201             1.10846\n",
      "Stage4         0.181514             1.10897\n",
      "Stage5         0.169232             1.1109\n",
      "Pipeline       0.882524             1.1109\n"
     ]
    }
   ],
   "source": [
    "pipeline, stages = create_pipeline()\n",
    "print(\"Starting pipeline in serial...\")\n",
    "pipeline.serialize()\n",
    "print(f\"Streaming data each {INPUT_PERIOD} s...\")\n",
    "pipeline.start_loop(INPUT_PERIOD)\n",
    "print(f\"Waiting for {ON_TIME} s...\")\n",
    "time.sleep(ON_TIME)\n",
    "print(\"Stopping pipeline...\")\n",
    "pipeline.stop_loop()\n",
    "\n",
    "# Let's try read the last result and do cleanup\n",
    "latest = pipeline.get_results()\n",
    "print()\n",
    "print(\"Last output shape:\")\n",
    "print(latest[\"data\"].shape)\n",
    "print(\"Number of processed data:\")\n",
    "print(stages[-1].count)\n",
    "pipeline.cleanup()\n",
    "print(\"Pipeline has been cleaned-up\")\n",
    "print(f\"Data counter was reset to {stages[-1].count}.\")\n",
    "\n",
    "# Get the profile\n",
    "latency, throughput = pipeline.get_profiles()\n",
    "print()\n",
    "print(\"Pipeline profile:\")\n",
    "print_profile(latency, throughput)"
   ]
  },
  {
   "attachments": {},
   "cell_type": "markdown",
   "metadata": {},
   "source": [
    "Let's do the same thing, but now use parallel pipeline instead of serial."
   ]
  },
  {
   "cell_type": "code",
   "execution_count": 20,
   "metadata": {},
   "outputs": [
    {
     "name": "stdout",
     "output_type": "stream",
     "text": [
      "Starting pipeline in parallel...\n",
      "Streaming data each 0.2 s...\n",
      "Waiting for 5 s...\n",
      "Stopping pipeline...\n",
      "\n",
      "Last output shape:\n",
      "(480, 720, 3)\n",
      "Number of processed data:\n",
      "17\n",
      "Pipeline has been cleaned-up\n",
      "Data counter was reset to 0.\n",
      "\n",
      "Pipeline profile:\n",
      "Stage       Latency (s)    Throughput (d/s)\n",
      "--------  -------------  ------------------\n",
      "Stage1         0.230761             4.31824\n",
      "Stage2         0.231476             4.26374\n",
      "Stage3         0.230794             4.25046\n",
      "Stage4         0.232133             4.23407\n",
      "Stage5         0.241114             4.12177\n",
      "Pipeline       1.46033              4.12178\n"
     ]
    }
   ],
   "source": [
    "pipeline, stages = create_pipeline()\n",
    "print(\"Starting pipeline in parallel...\")\n",
    "pipeline.parallelize()\n",
    "print(f\"Streaming data each {INPUT_PERIOD} s...\")\n",
    "pipeline.start_loop(INPUT_PERIOD)\n",
    "print(f\"Waiting for {ON_TIME} s...\")\n",
    "time.sleep(ON_TIME)\n",
    "print(\"Stopping pipeline...\")\n",
    "pipeline.stop_loop()\n",
    "\n",
    "# Let's try read the last result and do cleanup\n",
    "latest = pipeline.get_results()\n",
    "print()\n",
    "print(\"Last output shape:\")\n",
    "print(latest[\"data\"].shape)\n",
    "print(\"Number of processed data:\")\n",
    "print(stages[-1].count)\n",
    "pipeline.cleanup()\n",
    "print(\"Pipeline has been cleaned-up\")\n",
    "print(f\"Data counter was reset to {stages[-1].count}.\")\n",
    "\n",
    "# Get the profile\n",
    "latency, throughput = pipeline.get_profiles()\n",
    "print()\n",
    "print(\"Pipeline profile:\")\n",
    "print_profile(latency, throughput)"
   ]
  },
  {
   "attachments": {},
   "cell_type": "markdown",
   "metadata": {},
   "source": [
    "Compare the above profile with the previous one. You might notice several things:\n",
    "\n",
    "- The throughput has been significantly increased, thanks to the parallelization of the pipeline\n",
    "- Thus, the number of processed data is increased\n",
    "- You might get the latency slower than the serial, which is due to the resource utilization of your CPU. Now we run all of the stages at the same time."
   ]
  },
  {
   "attachments": {},
   "cell_type": "markdown",
   "metadata": {},
   "source": [
    "## Manually Triggered Pipeline"
   ]
  },
  {
   "attachments": {},
   "cell_type": "markdown",
   "metadata": {},
   "source": [
    "Of course, you can also pass the data to the pipeline manually. Just use the `forward` method. Let's recreate the pipeline. This time, we use both class and function-based stages."
   ]
  },
  {
   "cell_type": "code",
   "execution_count": 21,
   "metadata": {},
   "outputs": [],
   "source": [
    "def create_pipeline() -> Pipeline:\n",
    "    # First, create the pipeline instance, we want to use the profiler\n",
    "    pipeline = Pipeline(input_generator=generate_data, use_profiler=True)\n",
    "    # Now, add the stages to the pipeline.\n",
    "    pipeline.add(DummyStage(\"StageA\"))\n",
    "    pipeline.add(DummyStage(\"StageB\"))\n",
    "    pipeline.add(dummy_stage_func)\n",
    "    pipeline.add(dummy_stage_func)\n",
    "    return pipeline\n",
    "\n",
    "def print_profile(latency: Dict[str, float], throughput: Dict[str, float]) -> None:\n",
    "    data = []\n",
    "    for k in latency.keys():\n",
    "        d = [k, latency[k], throughput[k]]\n",
    "        data.append(d)\n",
    "    table = tabulate(data, headers=[\"Stage\", \"Latency (s)\", \"Throughput (d/s)\"])\n",
    "    print(table)"
   ]
  },
  {
   "attachments": {},
   "cell_type": "markdown",
   "metadata": {},
   "source": [
    "Define some parameters"
   ]
  },
  {
   "cell_type": "code",
   "execution_count": 22,
   "metadata": {},
   "outputs": [],
   "source": [
    "# Times to run the pipeline\n",
    "ON_CYCLE = 10"
   ]
  },
  {
   "attachments": {},
   "cell_type": "markdown",
   "metadata": {},
   "source": [
    "Try to pass the data manually by using the `forward` method. Let's just use parallel pipeline this time."
   ]
  },
  {
   "cell_type": "code",
   "execution_count": 24,
   "metadata": {},
   "outputs": [
    {
     "name": "stdout",
     "output_type": "stream",
     "text": [
      "Starting pipeline in parallel...\n",
      "\n",
      "Last output shape:\n",
      "(480, 720, 3)\n",
      "Pipeline has been cleaned-up\n",
      "\n",
      "Pipeline profile:\n",
      "Stage       Latency (s)    Throughput (d/s)\n",
      "--------  -------------  ------------------\n",
      "StageA         0.209784             4.77214\n",
      "StageB         0.213259             4.69376\n",
      "Stage_7        0.209259             4.73992\n",
      "Stage_8        0.203948             4.787\n",
      "Pipeline       1.24364              4.78707\n"
     ]
    }
   ],
   "source": [
    "pipeline = create_pipeline()\n",
    "print(\"Starting pipeline in parallel...\")\n",
    "# Wait for 5 seconds if the pipeline is not ready to take data yet when\n",
    "# pushing data to the pipeline\n",
    "pipeline.parallelize(block_input=True, input_timeout=10)\n",
    "\n",
    "# Generate and forward the data for ON_CYCLE times\n",
    "for _ in range(ON_CYCLE):\n",
    "    data = {\n",
    "        \"data\": np.random.randint(0, 255, size=(480, 720, 3), dtype=np.uint8)\n",
    "    }\n",
    "    pipeline.forward(data)\n",
    "time.sleep(5)\n",
    "\n",
    "# Let's try read the last result and do cleanup\n",
    "latest = pipeline.get_results()\n",
    "print()\n",
    "print(\"Last output shape:\")\n",
    "print(latest[\"data\"].shape)\n",
    "pipeline.cleanup()\n",
    "print(\"Pipeline has been cleaned-up\")\n",
    "\n",
    "# Get the profile\n",
    "latency, throughput = pipeline.get_profiles()\n",
    "print()\n",
    "print(\"Pipeline profile:\")\n",
    "print_profile(latency, throughput)"
   ]
  }
 ],
 "metadata": {
  "kernelspec": {
   "display_name": "pystream-pipeline-299M7DxG-py3.10",
   "language": "python",
   "name": "python3"
  },
  "language_info": {
   "codemirror_mode": {
    "name": "ipython",
    "version": 3
   },
   "file_extension": ".py",
   "mimetype": "text/x-python",
   "name": "python",
   "nbconvert_exporter": "python",
   "pygments_lexer": "ipython3",
   "version": "3.10.5"
  },
  "orig_nbformat": 4,
  "vscode": {
   "interpreter": {
    "hash": "6467d7306d71ffee6e04c2423aa30d05f8dd8bb79f51d418b1e0875e674c3626"
   }
  }
 },
 "nbformat": 4,
 "nbformat_minor": 2
}
