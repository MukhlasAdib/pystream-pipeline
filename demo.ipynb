{
 "cells": [
  {
   "cell_type": "code",
   "execution_count": 1,
   "metadata": {},
   "outputs": [],
   "source": [
    "import time\n",
    "from typing import Dict\n",
    "\n",
    "import cv2\n",
    "import numpy as np\n",
    "\n",
    "from pystream import Pipeline, Stage"
   ]
  },
  {
   "cell_type": "code",
   "execution_count": 2,
   "metadata": {},
   "outputs": [],
   "source": [
    "# Cycle period for the input data\n",
    "INPUT_PERIOD = 0.2\n",
    "# Time to run the pipeline\n",
    "ON_TIME = 5"
   ]
  },
  {
   "cell_type": "code",
   "execution_count": 3,
   "metadata": {},
   "outputs": [],
   "source": [
    "class DummyStage(Stage):\n",
    "    \"\"\"A dummy stage that performs some convolutions to the input 2D array,\n",
    "    and count how many input it has processed.\n",
    "    \n",
    "    It is recommended to define 'name' property in the stage instance init\n",
    "    \"\"\"\n",
    "\n",
    "    def __init__(self, name: str) -> None:\n",
    "        \"\"\"Initialize stage\n",
    "\n",
    "        Args:\n",
    "            name (str): stage name\n",
    "        \"\"\"        \n",
    "        self.count = 0\n",
    "        self.name = name\n",
    "        self.kernel = np.random.randint(-10, 10, size=(5, 5))\n",
    "\n",
    "    def __call__(self, data: Dict[str, np.ndarray]) -> Dict[str, np.ndarray]:\n",
    "        \"\"\"Main data processing of the stage, a mandatory method of the Stage \n",
    "        class. Note that the stage does not return a new dict object, but only\n",
    "        modifies the input object and returns it as the output\n",
    "\n",
    "        Args:\n",
    "            data (Dict[str, np.ndarray]): the input array, packed\n",
    "                in a dictionary\n",
    "\n",
    "        Returns:\n",
    "            Dict[str, np.ndarray]: the output array, packed\n",
    "            in a dictionary\n",
    "        \"\"\"\n",
    "        img = data[\"data\"]\n",
    "        for _ in range(100):\n",
    "            img = cv2.filter2D(src=img, ddepth=-1, kernel=self.kernel)\n",
    "        data[\"data\"] = img\n",
    "        self.count += 1\n",
    "        return data\n",
    "\n",
    "    def cleanup(self):\n",
    "        \"\"\"Cleanup method, called at the end of the pipeline.\n",
    "        in this example, we want to reset the counter to 0\"\"\"\n",
    "        self.count = 0"
   ]
  },
  {
   "cell_type": "code",
   "execution_count": 4,
   "metadata": {},
   "outputs": [],
   "source": [
    "def generate_data() -> Dict[str, np.ndarray]:\n",
    "    img = np.random.randint(0, 255, size=(480, 720, 3), dtype=np.uint8)\n",
    "    return {\"data\": img}\n",
    "\n",
    "def create_pipeline() -> Pipeline:\n",
    "    # First, create the pipeline instance, we want to use the profiler\n",
    "    pipeline = Pipeline(input_generator=generate_data, use_profiler=True)\n",
    "    # Now, add 5 dummy stages to the pipeline.\n",
    "    pipeline.add(DummyStage(\"Stage1\"))\n",
    "    pipeline.add(DummyStage(\"Stage2\"))\n",
    "    pipeline.add(DummyStage(\"Stage3\"))\n",
    "    pipeline.add(DummyStage(\"Stage4\"))\n",
    "    pipeline.add(DummyStage(\"Stage5\"))\n",
    "    return pipeline"
   ]
  },
  {
   "cell_type": "code",
   "execution_count": 5,
   "metadata": {},
   "outputs": [
    {
     "name": "stderr",
     "output_type": "stream",
     "text": [
      "Exception in thread PyStream-Automation:\n",
      "Traceback (most recent call last):\n",
      "  File \"C:\\Users\\user\\AppData\\Local\\Programs\\Python\\Python310\\lib\\threading.py\", line 1016, in _bootstrap_inner\n",
      "    self.run()\n",
      "  File \"C:\\Users\\user\\AppData\\Local\\Programs\\Python\\Python310\\lib\\threading.py\", line 953, in run\n",
      "    self._target(*self._args, **self._kwargs)\n",
      "  File \"d:\\AdibFile\\AdibProgram\\pystream-pipeline\\pystream\\pipeline\\automation.py\", line 45, in _loop_handler\n",
      "    self.pipeline.forward(data)\n",
      "  File \"d:\\AdibFile\\AdibProgram\\pystream-pipeline\\pystream\\pipeline\\pipeline.py\", line 126, in forward\n",
      "    return self.pipeline.forward(pipeline_data)\n",
      "  File \"d:\\AdibFile\\AdibProgram\\pystream-pipeline\\pystream\\pipeline\\serial_pipeline.py\", line 37, in forward\n",
      "    data = stage(data)\n",
      "  File \"d:\\AdibFile\\AdibProgram\\pystream-pipeline\\pystream\\stage\\container.py\", line 47, in __call__\n",
      "    data.data = self.stage(data.data)\n",
      "  File \"C:\\Users\\user\\AppData\\Local\\Temp\\ipykernel_21020\\1850571075.py\", line 31, in __call__\n",
      "TypeError: 'PipelineData' object is not subscriptable\n"
     ]
    },
    {
     "name": "stdout",
     "output_type": "stream",
     "text": [
      "Starting pipeline in serial...\n",
      "PipelineData(data=PipelineData(data={'data': array([[[ 53, 201,  16],\n",
      "        [139,  90, 204],\n",
      "        [231, 244,  34],\n",
      "        ...,\n",
      "        [205, 228,  81],\n",
      "        [167, 211, 173],\n",
      "        [103, 183,  16]],\n",
      "\n",
      "       [[ 51,  79,  13],\n",
      "        [  0, 130, 188],\n",
      "        [113, 147,  49],\n",
      "        ...,\n",
      "        [222, 253,  32],\n",
      "        [140, 107, 202],\n",
      "        [149, 200, 199]],\n",
      "\n",
      "       [[168,   7,  31],\n",
      "        [ 89,  56, 170],\n",
      "        [  0, 143, 177],\n",
      "        ...,\n",
      "        [ 31, 198,  11],\n",
      "        [241,  35,  31],\n",
      "        [140,  78, 203]],\n",
      "\n",
      "       ...,\n",
      "\n",
      "       [[115, 184, 134],\n",
      "        [152, 249, 246],\n",
      "        [206,  78,  68],\n",
      "        ...,\n",
      "        [177, 244, 130],\n",
      "        [249,  45,  83],\n",
      "        [ 38, 118,  50]],\n",
      "\n",
      "       [[131,  51, 128],\n",
      "        [ 84, 207, 208],\n",
      "        [242, 164, 249],\n",
      "        ...,\n",
      "        [  0, 138, 112],\n",
      "        [159, 150,  43],\n",
      "        [127, 182, 131]],\n",
      "\n",
      "       [[ 76, 251, 150],\n",
      "        [237,  16,  12],\n",
      "        [ 33,  84, 186],\n",
      "        ...,\n",
      "        [114, 184,  33],\n",
      "        [ 32, 253,  12],\n",
      "        [134, 140,  38]]], dtype=uint8)}, profile=ProfileData(started={}, ended={})), profile=ProfileData(started={'Pipeline': 445417.0969281, 'Stage1': 445417.0969363}, ended={}))\n",
      "Stopping pipeline...\n",
      "Last output shape:\n"
     ]
    },
    {
     "ename": "TypeError",
     "evalue": "'NoneType' object is not subscriptable",
     "output_type": "error",
     "traceback": [
      "\u001b[1;31m---------------------------------------------------------------------------\u001b[0m",
      "\u001b[1;31mTypeError\u001b[0m                                 Traceback (most recent call last)",
      "Cell \u001b[1;32mIn[5], line 12\u001b[0m\n\u001b[0;32m     10\u001b[0m latest \u001b[39m=\u001b[39m pipeline\u001b[39m.\u001b[39mget_results()\n\u001b[0;32m     11\u001b[0m \u001b[39mprint\u001b[39m(\u001b[39m\"\u001b[39m\u001b[39mLast output shape:\u001b[39m\u001b[39m\"\u001b[39m)\n\u001b[1;32m---> 12\u001b[0m \u001b[39mprint\u001b[39m(latest[\u001b[39m\"\u001b[39;49m\u001b[39mdata\u001b[39;49m\u001b[39m\"\u001b[39;49m])\n\u001b[0;32m     13\u001b[0m pipeline\u001b[39m.\u001b[39mcleanup()\n\u001b[0;32m     15\u001b[0m \u001b[39m# Get the profile\u001b[39;00m\n",
      "\u001b[1;31mTypeError\u001b[0m: 'NoneType' object is not subscriptable"
     ]
    }
   ],
   "source": [
    "pipeline = create_pipeline()\n",
    "print(\"Starting pipeline in serial...\")\n",
    "pipeline.serialize()\n",
    "pipeline.start_loop(INPUT_PERIOD)\n",
    "time.sleep(ON_TIME)\n",
    "print(\"Stopping pipeline...\")\n",
    "pipeline.stop_loop()\n",
    "\n",
    "# Let's try read the last result and do cleanup\n",
    "latest = pipeline.get_results()\n",
    "print(\"Last output shape:\")\n",
    "print(latest[\"data\"])\n",
    "pipeline.cleanup()\n",
    "\n",
    "# Get the profile\n",
    "profile = pipeline.get_profiles()\n",
    "print(\"Pipeline profiling results:\")\n",
    "print(profile)"
   ]
  },
  {
   "cell_type": "code",
   "execution_count": null,
   "metadata": {},
   "outputs": [],
   "source": []
  }
 ],
 "metadata": {
  "kernelspec": {
   "display_name": "pystream-pipeline-b0R0VbC--py3.10",
   "language": "python",
   "name": "python3"
  },
  "language_info": {
   "codemirror_mode": {
    "name": "ipython",
    "version": 3
   },
   "file_extension": ".py",
   "mimetype": "text/x-python",
   "name": "python",
   "nbconvert_exporter": "python",
   "pygments_lexer": "ipython3",
   "version": "3.10.6"
  },
  "orig_nbformat": 4
 },
 "nbformat": 4,
 "nbformat_minor": 2
}
