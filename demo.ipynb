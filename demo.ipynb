{
 "cells": [
  {
   "cell_type": "code",
   "execution_count": null,
   "metadata": {},
   "outputs": [],
   "source": [
    "import time\n",
    "from typing import Dict\n",
    "\n",
    "import cv2\n",
    "import numpy as np\n",
    "\n",
    "from pystream import Pipeline, Stage"
   ]
  },
  {
   "cell_type": "code",
   "execution_count": null,
   "metadata": {},
   "outputs": [],
   "source": [
    "class DummyStage(Stage):\n",
    "    \"\"\"A dummy stage that performs some convolutions to the input 2D array,\n",
    "    and count how many input it has processed.\n",
    "    \n",
    "    It is recommended to define 'name' property in the stage instance init\n",
    "    \"\"\"\n",
    "\n",
    "    def __init__(self, name: str) -> None:\n",
    "        \"\"\"Initialize stage\n",
    "\n",
    "        Args:\n",
    "            name (str): stage name\n",
    "        \"\"\"        \n",
    "        self.count = 0\n",
    "        self.name = name\n",
    "        self.kernel = np.random.randint(-10, 10, size=(5, 5))\n",
    "\n",
    "    def __call__(self, data: Dict[str, np.ndarray]) -> Dict[str, np.ndarray]:\n",
    "        \"\"\"Main data processing of the stage, a mandatory method of the Stage \n",
    "        class. Note that the stage does not return a new dict object, but only\n",
    "        modifies the input object and returns it as the output\n",
    "\n",
    "        Args:\n",
    "            data (Dict[str, np.ndarray]): the input array, packed\n",
    "                in a dictionary\n",
    "\n",
    "        Returns:\n",
    "            Dict[str, np.ndarray]: the output array, packed\n",
    "            in a dictionary\n",
    "        \"\"\"\n",
    "        img = data[\"data\"]\n",
    "        for _ in range(100):\n",
    "            img = cv2.filter2D(src=img, ddepth=-1, kernel=self.kernel)\n",
    "        data[\"data\"] = img\n",
    "        self.count += 1\n",
    "        return data\n",
    "\n",
    "    def cleanup(self):\n",
    "        \"\"\"Cleanup method, called at the end of the pipeline.\n",
    "        in this example, we want to reset the counter to 0\"\"\"\n",
    "        self.count = 0"
   ]
  },
  {
   "cell_type": "code",
   "execution_count": null,
   "metadata": {},
   "outputs": [],
   "source": [
    "def generate_data() -> Dict[str, np.ndarray]:\n",
    "    img = np.random.randint(0, 255, size=(480, 720, 3), dtype=np.uint8)\n",
    "    return {\"data\": img}\n",
    "\n",
    "def create_pipeline() -> Pipeline:\n",
    "    # First, create the pipeline instance, we want to use the profiler\n",
    "    pipeline = Pipeline(input_generator=generate_data, use_profiler=True)\n",
    "    # Now, add 5 dummy stages to the pipeline.\n",
    "    pipeline.add(DummyStage(\"Stage1\"))\n",
    "    pipeline.add(DummyStage(\"Stage2\"))\n",
    "    pipeline.add(DummyStage(\"Stage3\"))\n",
    "    pipeline.add(DummyStage(\"Stage4\"))\n",
    "    pipeline.add(DummyStage(\"Stage5\"))\n",
    "    return pipeline"
   ]
  },
  {
   "cell_type": "code",
   "execution_count": null,
   "metadata": {},
   "outputs": [],
   "source": [
    "pipeline = create_pipeline()\n",
    "print(\"Starting pipeline in serial...\")\n",
    "pipeline.serialize()\n",
    "pipeline.start_loop(INPUT_PERIOD)\n",
    "time.sleep(ON_TIME)\n",
    "print(\"Stopping pipeline...\")\n",
    "pipeline.stop_loop()\n",
    "\n",
    "# Let's try read the last result\n",
    "latest = pipeline.get_results()\n",
    "print(\"Last output:\")\n",
    "print(latest)\n",
    "pipeline.cleanup()"
   ]
  }
 ],
 "metadata": {
  "kernelspec": {
   "display_name": "pystream-pipeline-b0R0VbC--py3.10",
   "language": "python",
   "name": "python3"
  },
  "language_info": {
   "name": "python",
   "version": "3.10.6"
  },
  "orig_nbformat": 4
 },
 "nbformat": 4,
 "nbformat_minor": 2
}
